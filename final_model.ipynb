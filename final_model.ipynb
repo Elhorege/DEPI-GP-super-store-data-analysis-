{
 "cells": [
  {
   "cell_type": "code",
   "execution_count": 36,
   "id": "487f04dc-e562-4d49-9fc6-b9b8f3c7fae5",
   "metadata": {},
   "outputs": [],
   "source": [
    "# Import necessary libraries\n",
    "from sklearn.compose import ColumnTransformer\n",
    "from sklearn.preprocessing import OneHotEncoder,OrdinalEncoder,MinMaxScaler,StandardScaler\n",
    "from sklearn.pipeline import Pipeline,make_pipeline\n",
    "from sklearn.feature_selection import SelectKBest,chi2\n",
    "from sklearn.model_selection import train_test_split\n",
    "from sklearn.model_selection import train_test_split, GridSearchCV\n",
    "from xgboost import XGBRegressor\n",
    "from sklearn.pipeline import Pipeline\n",
    "from sklearn.preprocessing import StandardScaler, OneHotEncoder\n",
    "from sklearn.compose import ColumnTransformer\n",
    "from sklearn.decomposition import PCA\n",
    "from sklearn.metrics import mean_squared_error, r2_score"
   ]
  },
  {
   "cell_type": "code",
   "execution_count": 37,
   "id": "dacab449-3e7e-4c0b-9bbc-6af0caac00f3",
   "metadata": {},
   "outputs": [
    {
     "data": {
      "text/plain": [
       "Index(['order_id', 'order_date', 'ship_date', 'ship_mode', 'customer_name',\n",
       "       'segment', 'state', 'country', 'market', 'region', 'product_id',\n",
       "       'category', 'sub_category', 'product_name', 'sales', 'quantity',\n",
       "       'discount', 'profit', 'shipping_cost', 'order_priority', 'year',\n",
       "       'Return'],\n",
       "      dtype='object')"
      ]
     },
     "execution_count": 37,
     "metadata": {},
     "output_type": "execute_result"
    }
   ],
   "source": [
    "data = pd.read_csv('Super_Store_preprocessed.csv', encoding='latin1')\n",
    "data.columns"
   ]
  },
  {
   "cell_type": "code",
   "execution_count": 38,
   "id": "a352e57c-9de3-4719-bffc-ded2165f7d93",
   "metadata": {},
   "outputs": [],
   "source": [
    "# Separate features and target\n",
    "X = data.drop(['discount', 'order_date', 'product_name', 'order_id', 'ship_date', 'customer_name','product_id','country'], axis=1)\n",
    "y = data['discount']"
   ]
  },
  {
   "cell_type": "code",
   "execution_count": 19,
   "id": "b44b5349-2012-4709-b805-e23fdaa1748d",
   "metadata": {},
   "outputs": [
    {
     "data": {
      "text/html": [
       "<div>\n",
       "<style scoped>\n",
       "    .dataframe tbody tr th:only-of-type {\n",
       "        vertical-align: middle;\n",
       "    }\n",
       "\n",
       "    .dataframe tbody tr th {\n",
       "        vertical-align: top;\n",
       "    }\n",
       "\n",
       "    .dataframe thead th {\n",
       "        text-align: right;\n",
       "    }\n",
       "</style>\n",
       "<table border=\"1\" class=\"dataframe\">\n",
       "  <thead>\n",
       "    <tr style=\"text-align: right;\">\n",
       "      <th></th>\n",
       "      <th>ship_mode</th>\n",
       "      <th>segment</th>\n",
       "      <th>state</th>\n",
       "      <th>market</th>\n",
       "      <th>region</th>\n",
       "      <th>category</th>\n",
       "      <th>sub_category</th>\n",
       "      <th>sales</th>\n",
       "      <th>quantity</th>\n",
       "      <th>discount</th>\n",
       "      <th>shipping_cost</th>\n",
       "      <th>order_priority</th>\n",
       "      <th>year</th>\n",
       "      <th>Return</th>\n",
       "    </tr>\n",
       "  </thead>\n",
       "  <tbody>\n",
       "    <tr>\n",
       "      <th>0</th>\n",
       "      <td>Standard Class</td>\n",
       "      <td>Consumer</td>\n",
       "      <td>Constantine</td>\n",
       "      <td>Africa</td>\n",
       "      <td>Africa</td>\n",
       "      <td>Office Supplies</td>\n",
       "      <td>Storage</td>\n",
       "      <td>408</td>\n",
       "      <td>2</td>\n",
       "      <td>0.0</td>\n",
       "      <td>35.46</td>\n",
       "      <td>Medium</td>\n",
       "      <td>2011</td>\n",
       "      <td>0.000</td>\n",
       "    </tr>\n",
       "    <tr>\n",
       "      <th>1</th>\n",
       "      <td>Standard Class</td>\n",
       "      <td>Consumer</td>\n",
       "      <td>New South Wales</td>\n",
       "      <td>APAC</td>\n",
       "      <td>Oceania</td>\n",
       "      <td>Office Supplies</td>\n",
       "      <td>Supplies</td>\n",
       "      <td>120</td>\n",
       "      <td>3</td>\n",
       "      <td>0.1</td>\n",
       "      <td>9.72</td>\n",
       "      <td>Medium</td>\n",
       "      <td>2011</td>\n",
       "      <td>0.000</td>\n",
       "    </tr>\n",
       "    <tr>\n",
       "      <th>2</th>\n",
       "      <td>Second Class</td>\n",
       "      <td>Consumer</td>\n",
       "      <td>Budapest</td>\n",
       "      <td>EMEA</td>\n",
       "      <td>EMEA</td>\n",
       "      <td>Office Supplies</td>\n",
       "      <td>Storage</td>\n",
       "      <td>66</td>\n",
       "      <td>4</td>\n",
       "      <td>0.0</td>\n",
       "      <td>8.17</td>\n",
       "      <td>High</td>\n",
       "      <td>2011</td>\n",
       "      <td>0.000</td>\n",
       "    </tr>\n",
       "    <tr>\n",
       "      <th>3</th>\n",
       "      <td>Second Class</td>\n",
       "      <td>Home Office</td>\n",
       "      <td>Stockholm</td>\n",
       "      <td>EU</td>\n",
       "      <td>North</td>\n",
       "      <td>Office Supplies</td>\n",
       "      <td>Paper</td>\n",
       "      <td>45</td>\n",
       "      <td>3</td>\n",
       "      <td>0.5</td>\n",
       "      <td>4.82</td>\n",
       "      <td>High</td>\n",
       "      <td>2011</td>\n",
       "      <td>-26.055</td>\n",
       "    </tr>\n",
       "    <tr>\n",
       "      <th>4</th>\n",
       "      <td>Standard Class</td>\n",
       "      <td>Consumer</td>\n",
       "      <td>New South Wales</td>\n",
       "      <td>APAC</td>\n",
       "      <td>Oceania</td>\n",
       "      <td>Furniture</td>\n",
       "      <td>Furnishings</td>\n",
       "      <td>114</td>\n",
       "      <td>5</td>\n",
       "      <td>0.1</td>\n",
       "      <td>4.70</td>\n",
       "      <td>Medium</td>\n",
       "      <td>2011</td>\n",
       "      <td>0.000</td>\n",
       "    </tr>\n",
       "  </tbody>\n",
       "</table>\n",
       "</div>"
      ],
      "text/plain": [
       "        ship_mode      segment            state  market   region  \\\n",
       "0  Standard Class     Consumer      Constantine  Africa   Africa   \n",
       "1  Standard Class     Consumer  New South Wales    APAC  Oceania   \n",
       "2    Second Class     Consumer         Budapest    EMEA     EMEA   \n",
       "3    Second Class  Home Office        Stockholm      EU    North   \n",
       "4  Standard Class     Consumer  New South Wales    APAC  Oceania   \n",
       "\n",
       "          category sub_category  sales  quantity  discount  shipping_cost  \\\n",
       "0  Office Supplies      Storage    408         2       0.0          35.46   \n",
       "1  Office Supplies     Supplies    120         3       0.1           9.72   \n",
       "2  Office Supplies      Storage     66         4       0.0           8.17   \n",
       "3  Office Supplies        Paper     45         3       0.5           4.82   \n",
       "4        Furniture  Furnishings    114         5       0.1           4.70   \n",
       "\n",
       "  order_priority  year  Return  \n",
       "0         Medium  2011   0.000  \n",
       "1         Medium  2011   0.000  \n",
       "2           High  2011   0.000  \n",
       "3           High  2011 -26.055  \n",
       "4         Medium  2011   0.000  "
      ]
     },
     "execution_count": 19,
     "metadata": {},
     "output_type": "execute_result"
    }
   ],
   "source": [
    "X.head()"
   ]
  },
  {
   "cell_type": "code",
   "execution_count": 20,
   "id": "5bb7914f-6ea9-4044-859e-4c09090a5c05",
   "metadata": {},
   "outputs": [
    {
     "data": {
      "text/plain": [
       "0        106.1400\n",
       "1         36.0360\n",
       "2         29.6400\n",
       "3          0.0000\n",
       "4         37.7700\n",
       "           ...   \n",
       "51285      4.5188\n",
       "51286      0.4200\n",
       "51287     12.3600\n",
       "51288      0.5600\n",
       "51289      0.0000\n",
       "Name: profit, Length: 51290, dtype: float64"
      ]
     },
     "execution_count": 20,
     "metadata": {},
     "output_type": "execute_result"
    }
   ],
   "source": [
    "y"
   ]
  },
  {
   "cell_type": "code",
   "execution_count": 39,
   "id": "4c9afd02-90b9-4d09-b9fb-9221d0c801fd",
   "metadata": {},
   "outputs": [],
   "source": [
    "\n",
    "\n",
    "# Automatically select categorical and numerical columns\n",
    "categorical_cols = X.select_dtypes(include=['object']).columns\n",
    "numerical_cols = X.select_dtypes(include=['number']).columns\n",
    "\n",
    "# Split the data into training and testing sets\n",
    "X_train, X_test, y_train, y_test = train_test_split(X, y, test_size=0.2, random_state=42)\n",
    "\n",
    "# Define the preprocessing for numerical and categorical features\n",
    "numerical_transformer = Pipeline(steps=[\n",
    "    ('scaler', StandardScaler())])\n",
    "\n",
    "categorical_transformer = Pipeline(steps=[\n",
    "    ('onehot', OneHotEncoder(handle_unknown='ignore'))])\n",
    "\n",
    "# Combine preprocessing steps\n",
    "preprocessor = ColumnTransformer(\n",
    "    transformers=[\n",
    "        ('num', numerical_transformer, numerical_cols),\n",
    "        ('cat', categorical_transformer, categorical_cols)])\n",
    "\n",
    "# Define the model pipeline\n",
    "model_pipeline = Pipeline(steps=[\n",
    "    ('preprocessor', preprocessor),\n",
    "    ('model', XGBRegressor(objective='reg:squarederror', random_state=42))])\n",
    "\n",
    "param_grid = {\n",
    "    'model__n_estimators': [50, 100, 200],\n",
    "    'model__learning_rate': [0.05, 0.1, 0.5],\n",
    "    'model__max_depth': [3, 5, 7],\n",
    "}\n",
    "\n",
    "\n",
    "\n",
    "# Setup GridSearchCV\n",
    "grid_search = GridSearchCV(model_pipeline, param_grid, cv=5, n_jobs=-1, scoring='neg_mean_squared_error')\n",
    "\n",
    "# Train the model using GridSearchCV\n",
    "grid_search.fit(X_train, y_train)\n",
    "\n",
    "# Evaluate the model\n",
    "best_model = grid_search.best_estimator_\n",
    "y_pred = best_model.predict(X_test)\n",
    "\n",
    "\n"
   ]
  },
  {
   "cell_type": "code",
   "execution_count": 40,
   "id": "3df87597-45a2-4d02-ac17-7365618b4399",
   "metadata": {},
   "outputs": [
    {
     "name": "stdout",
     "output_type": "stream",
     "text": [
      "Best Parameters: {'model__learning_rate': 0.5, 'model__max_depth': 7, 'model__n_estimators': 200}\n",
      "ROOt Mean Squared Error: 0.0017730420268778665\n",
      "R^2 Score: 0.9610692383579355\n"
     ]
    }
   ],
   "source": [
    "# Calculate evaluation metrics\n",
    "from sklearn.metrics import mean_squared_error, r2_score\n",
    "\n",
    "mse = mean_squared_error(y_test, y_pred)\n",
    "r2 = r2_score(y_test, y_pred)\n",
    "\n",
    "print(f\"Best Parameters: {grid_search.best_params_}\")\n",
    "print(f\"ROOt Mean Squared Error: {mse}\")\n",
    "print(f\"R^2 Score: {r2}\")"
   ]
  },
  {
   "cell_type": "code",
   "execution_count": 41,
   "id": "ad255dab-9589-4df4-a8bd-95267fd77fee",
   "metadata": {},
   "outputs": [
    {
     "data": {
      "text/plain": [
       "'The y_trian mean 0.14296315071163967'"
      ]
     },
     "execution_count": 41,
     "metadata": {},
     "output_type": "execute_result"
    }
   ],
   "source": [
    "f\"The y_trian mean { y_train.mean()}\" "
   ]
  },
  {
   "cell_type": "markdown",
   "id": "78b846eb-bad7-4b6f-b3f3-16ce781c5502",
   "metadata": {},
   "source": [
    "\n",
    "# Model Evaluation Conclusion\n",
    "\n",
    "The model was optimized with the following best parameters:\n",
    "- **learning_rate** = 0.5\n",
    "- **max_depth** = 7\n",
    "- **n_estimators** = 200\n",
    "\n",
    "## Performance Metrics\n",
    "- **Root Mean Squared Error (RMSE)**: 0.00177\n",
    "- **R² Score**: 0.9611\n",
    "- **Mean of y_train**: 0.14296\n",
    "\n",
    "### Interpretation:\n",
    "- The **RMSE** of 0.00177 is extremely low, suggesting that the model's predictions are highly accurate, with minimal deviation from the actual values of the \"discount\" variable.\n",
    "- The **R² Score** of 0.9611 means that the model explains **96.1%** of the variance in the \"discount\" values. This indicates that the model captures almost all of the underlying patterns in the data.\n",
    "- The mean value of `y_train` is 0.14296, which further emphasizes how small the error (RMSE) is in comparison to the target variable's scale. The average error is much smaller than the mean of the \"discount,\" suggesting a strong predictive performance.\n",
    "\n",
    "## Conclusion:\n",
    "The model performs exceptionally well, providing highly accurate predictions of the \"discount\" based on the data. With a high R² score and a very low RMSE, the model is both effective in explaining the variance and minimizing the prediction error. This suggests that the model is well-suited for predicting the \"discount\" variable with minimal room for improvement.\n"
   ]
  },
  {
   "cell_type": "code",
   "execution_count": null,
   "id": "66cd225d-ec26-4800-b1de-ff313aa6bcb3",
   "metadata": {},
   "outputs": [],
   "source": []
  }
 ],
 "metadata": {
  "kernelspec": {
   "display_name": "Python 3 (ipykernel)",
   "language": "python",
   "name": "python3"
  },
  "language_info": {
   "codemirror_mode": {
    "name": "ipython",
    "version": 3
   },
   "file_extension": ".py",
   "mimetype": "text/x-python",
   "name": "python",
   "nbconvert_exporter": "python",
   "pygments_lexer": "ipython3",
   "version": "3.11.10"
  }
 },
 "nbformat": 4,
 "nbformat_minor": 5
}
